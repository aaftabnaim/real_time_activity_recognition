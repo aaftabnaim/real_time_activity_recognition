{
  "nbformat": 4,
  "nbformat_minor": 0,
  "metadata": {
    "colab": {
      "name": "git_build_activity_recognition_modelv1.ipynb",
      "provenance": [],
      "collapsed_sections": []
    },
    "kernelspec": {
      "name": "python3",
      "display_name": "Python 3"
    },
    "accelerator": "GPU"
  },
  "cells": [
    {
      "cell_type": "code",
      "metadata": {
        "id": "V4_DuHp5x7Ic",
        "colab": {
          "base_uri": "https://localhost:8080/"
        },
        "outputId": "2238a9a0-dff0-4a46-b8e5-8111b5d6f6f6"
      },
      "source": [
        "from google.colab import drive\n",
        "import os\n",
        "import matplotlib.pyplot as plt\n",
        "drive.mount('/content/gdrive')"
      ],
      "execution_count": null,
      "outputs": [
        {
          "output_type": "stream",
          "text": [
            "Drive already mounted at /content/gdrive; to attempt to forcibly remount, call drive.mount(\"/content/gdrive\", force_remount=True).\n"
          ],
          "name": "stdout"
        }
      ]
    },
    {
      "cell_type": "code",
      "metadata": {
        "id": "qkI97dLO4Wsh"
      },
      "source": [
        "import tensorflow as tf\n",
        "from google.colab.patches import cv2_imshow\n",
        "import cv2 as cv\n",
        "import numpy as np\n",
        "import random"
      ],
      "execution_count": null,
      "outputs": []
    },
    {
      "cell_type": "code",
      "metadata": {
        "id": "2ydLuW_r4QUE"
      },
      "source": [
        "# Reading the dataset\n",
        "# 2 modes: 'file' or 'folder'\n",
        "def read_images(dataset_path,mode, batch_size):\n",
        "    data = []\n",
        "    imagepaths, labels = list(), list()\n",
        "    if mode == 'file':\n",
        "        # Read dataset file\n",
        "        data = open(dataset_path, 'r').read().splitlines()\n",
        "        for d in data:\n",
        "            imagepaths.append(d.split(' ')[0])\n",
        "            labels.append(int(d.split(' ')[1]))\n",
        "    elif mode == 'folder':\n",
        "        # An ID will be affected to each sub-folders by alphabetical order\n",
        "        label = 0\n",
        "        # List the directory\n",
        "        try:  # Python 2\n",
        "            classes = sorted(os.walk(dataset_path).next()[1])\n",
        "        except Exception:  # Python 3\n",
        "            classes = sorted(os.walk(dataset_path).__next__()[1])\n",
        "        # List each sub-directory (the classes)\n",
        "        for c in classes:\n",
        "            c_dir = os.path.join(dataset_path, c)\n",
        "            try:  # Python 2\n",
        "                walk = os.walk(c_dir).next()\n",
        "            except Exception:  # Python 3\n",
        "                walk = os.walk(c_dir).__next__()\n",
        "            # Add each image to the training set\n",
        "            for sample in walk[2]:\n",
        "                # Only keeps jpeg images\n",
        "                if sample.endswith('.jpg') or sample.endswith('.jpeg'):\n",
        "                    imagepaths.append(os.path.join(c_dir, sample))\n",
        "                    labels.append(label)\n",
        "            label += 1\n",
        "    else:\n",
        "        raise Exception(\"Unknown mode.\")\n",
        "\n",
        "    for img,lab_ in zip(imagepaths,labels):\n",
        "      array = cv.imread(img)\n",
        "      if array.shape==(480,640,3):\n",
        "        data.append((array, lab_))\n",
        "        print(\"*\",end='')\n",
        "    \n",
        "    return data\n",
        "\n",
        "\n",
        "learning_rate = 0.001\n",
        "num_steps = 10000\n",
        "batch_size = 128\n",
        "display_step = 100\n",
        "\n",
        "# Network Parameters\n",
        "dropout = 0.75 # Dropout, probability to keep units\n",
        "\n",
        "DATASET_PATH = '/content/gdrive/My Drive/dataset'\n",
        "MODE = 'folder'\n",
        "batch_size  = 32\n",
        "# Build the data input\n",
        "dataset = read_images(DATASET_PATH, MODE, batch_size)"
      ],
      "execution_count": null,
      "outputs": []
    },
    {
      "cell_type": "code",
      "metadata": {
        "id": "zuh8wMICG15q"
      },
      "source": [
        "#run this to see if you have loaded the dataset correctly\n",
        "test = dataset[500]\n",
        "cv2_imshow(test[0])\n",
        "print(test[1])"
      ],
      "execution_count": null,
      "outputs": []
    },
    {
      "cell_type": "code",
      "metadata": {
        "id": "SzQ8QKCsHkyq"
      },
      "source": [
        "# you can save your dataset for later use and load it using the next block\n",
        "with open('/content/gdrive/My Drive/dataset/test.npy', 'wb') as f:\n",
        "    np.save(f, dataset)\n"
      ],
      "execution_count": null,
      "outputs": []
    },
    {
      "cell_type": "code",
      "metadata": {
        "id": "09x6Zuzv9dDA"
      },
      "source": [
        "#load an already saved dataset(np.ndarray)\n",
        "dataset = np.load('/content/gdrive/My Drive/dataset/test.npy',allow_pickle=True)\n"
      ],
      "execution_count": null,
      "outputs": []
    },
    {
      "cell_type": "code",
      "metadata": {
        "id": "WVdonWkjIhQh"
      },
      "source": [
        "def split_data_label(in_list):\n",
        "  data = []\n",
        "  label = []\n",
        "\n",
        "  for item in in_list:\n",
        "    data.append(np.array(item[0], dtype='float32'))\n",
        "    label.append(item[1])\n",
        "  \n",
        "  return np.array(data), np.array(label)\n"
      ],
      "execution_count": null,
      "outputs": []
    },
    {
      "cell_type": "code",
      "metadata": {
        "id": "Tl7Hgq9zIydV"
      },
      "source": [
        "import copy \n",
        "\n",
        "dataset_copy = copy.deepcopy(dataset)\n",
        "np.random.shuffle(dataset_copy)\n",
        "np.random.shuffle(dataset_copy)\n",
        "np.random.shuffle(dataset_copy)\n",
        "\n",
        "print(type(dataset_copy))\n",
        "print(type(dataset))\n",
        "\n",
        "print(dataset[0])\n",
        "print(dataset_copy[0])\n",
        "\n",
        "split_index = round(len(dataset_copy)*0.8)\n",
        "t_data = dataset_copy[:split_index]\n",
        "v_data = dataset_copy[split_index:]\n",
        "print(split_index)"
      ],
      "execution_count": null,
      "outputs": []
    },
    {
      "cell_type": "code",
      "metadata": {
        "id": "ef27rsw8D8RD"
      },
      "source": [
        "#run this to check if the dataset has shuffled\n",
        "cv2_imshow(dataset[1000][0])"
      ],
      "execution_count": null,
      "outputs": []
    },
    {
      "cell_type": "code",
      "metadata": {
        "id": "ghNHMLF0ED5q"
      },
      "source": [
        "cv2_imshow(dataset_copy[1000][0])"
      ],
      "execution_count": null,
      "outputs": []
    },
    {
      "cell_type": "code",
      "metadata": {
        "id": "w8NFDC7wMpxz"
      },
      "source": [
        "# split the train and test data\n",
        "df_train, y_train = split_data_label(t_data)\n",
        "df_test, y_test = split_data_label(v_data)"
      ],
      "execution_count": null,
      "outputs": []
    },
    {
      "cell_type": "code",
      "metadata": {
        "id": "yhVe0frYNTQl"
      },
      "source": [
        "print(df_train[0].shape)\n",
        "img_height = df_train[0].shape[0]\n",
        "img_width = df_train[0].shape[1]"
      ],
      "execution_count": null,
      "outputs": []
    },
    {
      "cell_type": "code",
      "metadata": {
        "id": "siMicJA9NA5W"
      },
      "source": [
        "model = tf.keras.Sequential([\n",
        "                             tf.keras.layers.experimental.preprocessing.Rescaling(1./255, input_shape=(img_height, img_width, 3)),\n",
        "                             tf.keras.layers.Conv2D(16, 3, padding='same', activation='relu'),\n",
        "                             tf.keras.layers.MaxPooling2D(),\n",
        "                             tf.keras.layers.Conv2D(32, 3, padding='same', activation='relu'),\n",
        "                             tf.keras.layers.MaxPooling2D(),\n",
        "                             tf.keras.layers.Conv2D(96, 3, padding='same', activation='relu'),\n",
        "                             tf.keras.layers.MaxPooling2D(),\n",
        "                             tf.keras.layers.Flatten(),\n",
        "                             tf.keras.layers.Dense(10, activation='relu'),\n",
        "                             tf.keras.layers.Dense(5)\n",
        "])\n"
      ],
      "execution_count": null,
      "outputs": []
    },
    {
      "cell_type": "code",
      "metadata": {
        "id": "7T55ZGwmPaY5"
      },
      "source": [
        "model.compile(optimizer='adam',\n",
        "              loss=tf.keras.losses.SparseCategoricalCrossentropy(from_logits=True),\n",
        "              metrics=['accuracy'])"
      ],
      "execution_count": null,
      "outputs": []
    },
    {
      "cell_type": "code",
      "metadata": {
        "id": "kD_etqH7gImc"
      },
      "source": [
        "model.summary()"
      ],
      "execution_count": null,
      "outputs": []
    },
    {
      "cell_type": "code",
      "metadata": {
        "id": "XpaexEJ4sDYl"
      },
      "source": [
        "# used for debugging.Gives you the type of inputs and their shapes\n",
        "[print(i.shape, i.dtype) for i in model.inputs]"
      ],
      "execution_count": null,
      "outputs": []
    },
    {
      "cell_type": "code",
      "metadata": {
        "id": "9rjPqkRGPfIl"
      },
      "source": [
        "model.fit(df_train, y_train, epochs=10)"
      ],
      "execution_count": null,
      "outputs": []
    },
    {
      "cell_type": "code",
      "metadata": {
        "id": "0NcfqYvKRPQ-"
      },
      "source": [
        "model.evaluate(df_test, y_test)"
      ],
      "execution_count": null,
      "outputs": []
    },
    {
      "cell_type": "code",
      "metadata": {
        "id": "8BUxRTDRR-Fo"
      },
      "source": [
        "predictions = model.predict(df_test)"
      ],
      "execution_count": null,
      "outputs": []
    },
    {
      "cell_type": "code",
      "metadata": {
        "id": "DzTWfU7Mho75"
      },
      "source": [
        "index = 82\n",
        "x = np.array([df_test[index]])\n",
        "model.predict(x, batch_size=1)\n",
        "print(np.argmax(model.predict(x, batch_size=1)))\n",
        "print(\" vs \")\n",
        "print(y_test[index])\n",
        "cv2_imshow(df_test[index])\n"
      ],
      "execution_count": null,
      "outputs": []
    },
    {
      "cell_type": "code",
      "metadata": {
        "id": "IYChFqHDRYcz"
      },
      "source": [
        "index = 20\n",
        "classes = ['eating','praying','sleeping','studying']\n",
        "print(classes[int(y_test[index])])\n",
        "print(classes[np.argmax(predictions[index])])\n",
        "cv2_imshow(df_test[index]*255)"
      ],
      "execution_count": null,
      "outputs": []
    },
    {
      "cell_type": "code",
      "metadata": {
        "id": "f6E10fuadqls",
        "colab": {
          "base_uri": "https://localhost:8080/"
        },
        "outputId": "5afbc2f7-0ef0-4dec-d1a7-1ae544f69798"
      },
      "source": [
        "!pip install pyyaml h5py  # Required to save models in HDF5 format"
      ],
      "execution_count": null,
      "outputs": [
        {
          "output_type": "stream",
          "text": [
            "Requirement already satisfied: pyyaml in /usr/local/lib/python3.6/dist-packages (3.13)\n",
            "Requirement already satisfied: h5py in /usr/local/lib/python3.6/dist-packages (2.10.0)\n",
            "Requirement already satisfied: numpy>=1.7 in /usr/local/lib/python3.6/dist-packages (from h5py) (1.18.5)\n",
            "Requirement already satisfied: six in /usr/local/lib/python3.6/dist-packages (from h5py) (1.15.0)\n"
          ],
          "name": "stdout"
        }
      ]
    },
    {
      "cell_type": "code",
      "metadata": {
        "id": "WMT6PNbGdq_3"
      },
      "source": [
        "# saves your model in the drive\n",
        "model.save('/content/gdrive/My Drive/dataset/new_recognizerv3_80.h5')"
      ],
      "execution_count": null,
      "outputs": []
    }
  ]
}